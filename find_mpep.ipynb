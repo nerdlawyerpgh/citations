{
 "cells": [
  {
   "cell_type": "code",
   "execution_count": null,
   "metadata": {},
   "outputs": [],
   "source": [
    "import re\n",
    "from dataclasses import dataclass, field\n",
    "from typing import Optional, Sequence, List"
   ]
  },
  {
   "cell_type": "code",
   "execution_count": null,
   "metadata": {},
   "outputs": [],
   "source": [
    "# Define your MPEP regex pattern\n",
    "#MPEP_REGEX = r'(?P<MPEP>\\d+)(?:§)?\\s+(?P<chapter>\\d+)(?:\\.\\s*(?P<section>[\\d.]+))?'\n",
    "#MPEP_REGEX = r'(\\bMPEP\\s+)(?:§\\s+)?(?P<chapter>\\d+)(?:\\.\\s*(?P<section>[\\d]+)(?P<subsection>(?:\\([\\da-zA-Z]+\\)(?:\\(\\d+\\))?)*)|\\.\\d+[a-zA-Z]+(?:\\.\\(\\d+\\)[a-zA-Z]+)?)*'\n",
    "#MPEP_REGEX = r'(\\bMPEP\\s+)(?:§\\s+)?(?P<chapter>\\d+)(?:\\.\\s*(?P<section>[\\d]+)(?P<subsection>(?:\\([\\da-zA-Z]+\\)(?:\\(\\d+\\))?|(?:\\.([\\da-zA-Z]+)(?:\\.\\([\\da-zA-Z]+)?))?)?'\n",
    "MPEP_REGEX = r'(\\bMPEP\\s+)(?:§\\s+)?(?P<chapter>\\d+)(?:\\.\\s*(?P<section>[\\d]+)(?P<subsection>(?:\\([\\da-zA-Z]+\\)(?:\\(\\d+\\))?|(?:\\.([\\da-zA-Z]+)(?:\\.\\([\\da-zA-Z]+)\\)?)?)?)?)?'\n",
    "\n",
    "\n",
    "# Example MPEP citation: MPEP 2145 or MPEP § 701.32(a)(1)\n",
    "mpep_pattern = re.compile(MPEP_REGEX)"
   ]
  },
  {
   "cell_type": "code",
   "execution_count": null,
   "metadata": {},
   "outputs": [
    {
     "name": "stdout",
     "output_type": "stream",
     "text": [
      "Full Match: MPEP 2145\n",
      "{'chapter': '2145', 'section': None, 'subsection': None}\n",
      "Full Match: MPEP § 701.32(a)(1)\n",
      "{'chapter': '701', 'section': '32', 'subsection': '(a)(1)'}\n"
     ]
    }
   ],
   "source": [
    "text = \"The relevant MPEP citations are MPEP 2145 and MPEP § 701.32(a)(1).\"\n",
    "matches = mpep_pattern.finditer(text)\n",
    "#print(matches)\n",
    "for match in matches:\n",
    "    print(\"Full Match:\", match.group())\n",
    "    print(match.groupdict())\n"
   ]
  },
  {
   "cell_type": "code",
   "execution_count": null,
   "metadata": {},
   "outputs": [
    {
     "name": "stdout",
     "output_type": "stream",
     "text": [
      "MPEP § 701.32(a)(1)\n",
      "Chapter: 701, Section: 32, Subsection: (a)(1)\n",
      "MPEP § 701.32\n",
      "Chapter: 701, Section: 32, Subsection: \n"
     ]
    }
   ],
   "source": [
    "text = \"The relevant MPEP citation is MPEP § 701.32(a)(1) or MPEP § 701.32.a.1.\"\n",
    "\n",
    "matches = re.finditer(MPEP_REGEX, text)\n",
    "for match in matches:\n",
    "    mpep_citation = match.group(0)\n",
    "    print(mpep_citation)\n",
    "    chapter = match.group('chapter')\n",
    "    section = match.group('section')\n",
    "    subsection = match.group('subsection')\n",
    "    print(f\"Chapter: {chapter}, Section: {section}, Subsection: {subsection}\")"
   ]
  },
  {
   "cell_type": "code",
   "execution_count": null,
   "metadata": {},
   "outputs": [
    {
     "name": "stdout",
     "output_type": "stream",
     "text": [
      "Full Match: MPEP 2145\n",
      "Named Groups: {'chapter': '2145', 'section': None, 'subsection': None}\n"
     ]
    }
   ],
   "source": [
    "text = \"The relevant MPEP citation is MPEP 2145.\"\n",
    "matches = mpep_pattern.finditer(text)\n",
    "\n",
    "for match in matches:\n",
    "    print(\"Full Match:\", match.group())\n",
    "    print(\"Named Groups:\", match.groupdict())"
   ]
  },
  {
   "cell_type": "code",
   "execution_count": null,
   "metadata": {},
   "outputs": [],
   "source": [
    "@dataclass(eq=True, unsafe_hash=True)\n",
    "class MPEPCitation:\n",
    "    \"\"\"Class representing an MPEP citation.\"\"\"\n",
    "    metadata: Optional[dict] = field(default=None)\n",
    "\n",
    "    def formatted(self):\n",
    "        \"\"\"Return a formatted version of the extracted MPEP citation.\"\"\"\n",
    "        m = self.metadata\n",
    "        if m:\n",
    "            parts = [f'MPEP {m[\"chapter\"]}']\n",
    "            if \"section\" in m:\n",
    "                parts.append(f'§ {m[\"section\"]}')\n",
    "            return ' '.join(parts)\n",
    "        return ''\n",
    "\n",
    "def extract_mpep_citation(text):\n",
    "    \"\"\"Extract MPEP citations from the given text.\"\"\"\n",
    "    matches = mpep_pattern.finditer(text)\n",
    "    print(matches)\n",
    "    citations = []\n",
    "    for match in matches:\n",
    "        citation = MPEPCitation(metadata=match.groupdict())\n",
    "        print(citation)\n",
    "        citations.append(citation)\n",
    "    return citations"
   ]
  },
  {
   "cell_type": "code",
   "execution_count": null,
   "metadata": {},
   "outputs": [],
   "source": []
  },
  {
   "cell_type": "code",
   "execution_count": null,
   "metadata": {},
   "outputs": [
    {
     "name": "stdout",
     "output_type": "stream",
     "text": [
      "<callable_iterator object at 0x1127cd150>\n",
      "MPEPCitation(metadata={'chapter': '2145', 'section': None, 'subsection': None})\n",
      "MPEPCitation(metadata={'chapter': '701', 'section': '32', 'subsection': '(a)(1)'})\n",
      "MPEP 2145 § None\n",
      "MPEP 701 § 32\n"
     ]
    }
   ],
   "source": [
    "# Example usage:\n",
    "text = \"The relevant MPEP citations are MPEP 2145 and MPEP § 701.32(a)(1).\"\n",
    "citations = extract_mpep_citation(text)\n",
    "for citation in citations:\n",
    "    print(citation.formatted())\n"
   ]
  },
  {
   "cell_type": "code",
   "execution_count": null,
   "metadata": {},
   "outputs": [
    {
     "name": "stdout",
     "output_type": "stream",
     "text": [
      "[MPEPCitation(metadata={'chapter': '2145', 'section': None, 'subsection': None}), MPEPCitation(metadata={'chapter': '701', 'section': '32', 'subsection': '(a)(1)'})]\n"
     ]
    }
   ],
   "source": [
    "print(citations)"
   ]
  },
  {
   "cell_type": "code",
   "execution_count": null,
   "metadata": {},
   "outputs": [
    {
     "name": "stdout",
     "output_type": "stream",
     "text": [
      "<callable_iterator object at 0x111f2da80>\n",
      "MPEPCitation(metadata={'chapter': '2145', 'section': None, 'subsection': None})\n",
      "MPEPCitation(metadata={'chapter': '701', 'section': '32', 'subsection': '(a)(1)'})\n",
      "MPEPCitation(metadata={'chapter': '701', 'section': '32', 'subsection': ''})\n",
      "MPEPCitation(metadata={'chapter': '2145', 'section': None, 'subsection': None})\n",
      "MPEPCitation(metadata={'chapter': '701', 'section': '32', 'subsection': '(a)(1)'})\n",
      "MPEPCitation(metadata={'chapter': '701', 'section': '32', 'subsection': ''})\n"
     ]
    }
   ],
   "source": [
    "from find_mpep import extract_mpep_citation\n",
    "\n",
    "text = \"The relevant MPEP citation are MPEP 2145 and MPEP § 701.32(a)(1) or MPEP § 701.32.a.1.\"\n",
    "result = extract_mpep_citation(text)\n",
    "\n",
    "for citation in result:\n",
    "    print(citation)"
   ]
  },
  {
   "cell_type": "code",
   "execution_count": null,
   "metadata": {},
   "outputs": [
    {
     "name": "stdout",
     "output_type": "stream",
     "text": [
      "<callable_iterator object at 0x111f2db10>\n",
      "MPEPCitation(metadata={'chapter': '2145', 'section': None, 'subsection': None})\n",
      "MPEPCitation(metadata={'chapter': '701', 'section': '32', 'subsection': '(a)(1)'})\n",
      "MPEPCitation(metadata={'chapter': '701', 'section': '32', 'subsection': ''})\n",
      "[MPEPCitation(metadata={'chapter': '2145', 'section': None, 'subsection': None}), MPEPCitation(metadata={'chapter': '701', 'section': '32', 'subsection': '(a)(1)'}), MPEPCitation(metadata={'chapter': '701', 'section': '32', 'subsection': ''})]\n"
     ]
    }
   ],
   "source": [
    "from find_mpep import extract_mpep_citation\n",
    "\n",
    "text = \"The relevant MPEP citation are MPEP 2145 and MPEP § 701.32(a)(1) or MPEP § 701.32.a.1.\"\n",
    "result = extract_mpep_citation(text)\n",
    "print(result)\n",
    "\n",
    "#for citation in result:\n",
    " #   print(citation)"
   ]
  }
 ],
 "metadata": {
  "language_info": {
   "name": "python"
  }
 },
 "nbformat": 4,
 "nbformat_minor": 2
}
