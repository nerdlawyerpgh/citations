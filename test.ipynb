{
 "cells": [
  {
   "cell_type": "code",
   "execution_count": 2,
   "metadata": {},
   "outputs": [
    {
     "name": "stdout",
     "output_type": "stream",
     "text": [
      "MPEPCitation(metadata={'chapter': '2145', 'section': None, 'subsection': None})\n",
      "MPEPCitation(metadata={'chapter': '701', 'section': '32', 'subsection': '(a)(1)'})\n",
      "MPEPCitation(metadata={'chapter': '701', 'section': '32', 'subsection': ''})\n"
     ]
    }
   ],
   "source": [
    "from find_mpep import extract_mpep_citation\n",
    "\n",
    "text = \"The relevant MPEP citation are MPEP 2145 and MPEP § 701.32(a)(1) or MPEP § 701.32.a.1.\"\n",
    "result = extract_mpep_citation(text)\n",
    "#print(result)\n",
    "\n",
    "for citation in result:\n",
    "    print(citation)"
   ]
  }
 ],
 "metadata": {
  "kernelspec": {
   "display_name": "Python 3",
   "language": "python",
   "name": "python3"
  },
  "language_info": {
   "codemirror_mode": {
    "name": "ipython",
    "version": 3
   },
   "file_extension": ".py",
   "mimetype": "text/x-python",
   "name": "python",
   "nbconvert_exporter": "python",
   "pygments_lexer": "ipython3",
   "version": "3.12.1"
  }
 },
 "nbformat": 4,
 "nbformat_minor": 2
}
